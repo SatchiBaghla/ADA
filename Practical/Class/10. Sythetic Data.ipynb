{
 "cells": [
  {
   "cell_type": "code",
   "execution_count": 3,
   "metadata": {},
   "outputs": [],
   "source": [
    "import pandas as pd\n",
    "from faker import Faker"
   ]
  },
  {
   "cell_type": "code",
   "execution_count": 4,
   "metadata": {},
   "outputs": [
    {
     "name": "stdout",
     "output_type": "stream",
     "text": [
      "                             CustomerID              Name DateOfBirth  Gender  \\\n",
      "0  5bc5f597-2471-4964-b6c9-dff0d2ae5606        Todd Evans  2005-05-23    Male   \n",
      "1  58600b79-74f6-47ae-81b8-86f9d249c6bd    Sabrina Hunter  1990-09-24  Female   \n",
      "2  79a352a0-1c2b-458a-8f26-044ea31d802d    Joshua Johnson  1959-07-29  Female   \n",
      "3  b5ccff3a-29a6-4f07-9eef-428c3b150f6e    Theresa Levine  1964-07-16  Female   \n",
      "4  547693d7-42fb-4dc6-996e-21b970106484  Aaron Richardson  1945-01-03    Male   \n",
      "\n",
      "                                             Address            PhoneNumber  \\\n",
      "0    0301 Barry Creek Apt. 453\\nWest Molly, CT 62796  +1-465-939-6007x17902   \n",
      "1  952 Anne Lights Apt. 232\\nNorth Jillbury, MO 8...          (612)396-3904   \n",
      "2           96397 Jackson Plaza\\nLake John, VI 75584      480.675.7650x6473   \n",
      "3    501 David Forge Suite 357\\nStevenland, NM 53826             6683233659   \n",
      "4              975 Barnes Flat\\nTurnerside, MD 92334      932-717-6634x7266   \n",
      "\n",
      "                       Email  AccountBalance AccountType LastTransactionDate  \n",
      "0          xbest@example.org          642118      Credit          2020-07-11  \n",
      "1        jconway@example.org          296367      Credit          2021-11-18  \n",
      "2  brendafreeman@example.com          570084    Checking          2023-11-26  \n",
      "3        cnewman@example.org          139946      Credit          2021-07-04  \n",
      "4       sarahkim@example.org          124419    Checking          2024-04-11  \n"
     ]
    }
   ],
   "source": [
    "fake  = Faker()\n",
    "data = {\n",
    "    'CustomerID': [fake.uuid4() for _ in range(100)],\n",
    "    'Name': [fake.name() for _ in range(100)],\n",
    "    'DateOfBirth': [fake.date_of_birth(minimum_age=18, maximum_age=80).strftime('%Y-%m-%d') for _ in range(100)],\n",
    "    'Gender': [fake.random_element(elements=['Male', 'Female']) for _ in range(100)],\n",
    "    'Address': [fake.address() for _ in range(100)],\n",
    "    'PhoneNumber': [fake.phone_number() for _ in range(100)],\n",
    "    'Email': [fake.email() for _ in range(100)],\n",
    "    'AccountBalance': [fake.random_number(digits=6) for _ in range(100)],\n",
    "    'AccountType': [fake.random_element(elements=['Savings', 'Checking', 'Credit']) for _ in range(100)],\n",
    "    'LastTransactionDate': [fake.date_this_decade(before_today=True, after_today=False).strftime('%Y-%m-%d') for _ in range(100)],\n",
    "}\n",
    "\n",
    "df = pd.DataFrame(data)\n",
    "\n",
    "print(df.head())\n",
    "\n",
    "df.to_csv('synthetic_banking_data.csv', index=False)\n"
   ]
  }
 ],
 "metadata": {
  "kernelspec": {
   "display_name": "Python 3",
   "language": "python",
   "name": "python3"
  },
  "language_info": {
   "codemirror_mode": {
    "name": "ipython",
    "version": 3
   },
   "file_extension": ".py",
   "mimetype": "text/x-python",
   "name": "python",
   "nbconvert_exporter": "python",
   "pygments_lexer": "ipython3",
   "version": "3.11.6"
  }
 },
 "nbformat": 4,
 "nbformat_minor": 2
}
