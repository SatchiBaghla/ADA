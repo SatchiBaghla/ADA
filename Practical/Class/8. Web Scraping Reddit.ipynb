{
 "cells": [
  {
   "cell_type": "code",
   "execution_count": 1,
   "metadata": {},
   "outputs": [],
   "source": [
    "import praw\n",
    "import pandas as pd"
   ]
  },
  {
   "cell_type": "code",
   "execution_count": 7,
   "metadata": {},
   "outputs": [
    {
     "name": "stdout",
     "output_type": "stream",
     "text": [
      "        id                                              title  score  \\\n",
      "0  1drhf6o  Virat Kohli has just announced his T20I retire...   5864   \n",
      "1  1drhpr5      Virat Kohli in every T20 World Cup Knockouts.   1529   \n",
      "2  16funm6            Virat Kohli 13000 ODI runs and counting   3033   \n",
      "3  1drhe79  Virat Kohli is the POTM for his important inni...   2190   \n",
      "4  1drejex  Virat Kohli delivered a crucial knock in the f...   1249   \n",
      "\n",
      "                                      url  comms_num       created body  \n",
      "0  https://www.reddit.com/gallery/1drhf6o        710  1.719685e+09       \n",
      "1    https://i.redd.it/z7ir31951k9d1.jpeg        186  1.719686e+09       \n",
      "2     https://i.redd.it/pn1hzannjmnb1.png        200  1.694437e+09       \n",
      "3    https://i.redd.it/9iibzc9kyj9d1.jpeg        232  1.719685e+09       \n",
      "4     https://i.redd.it/174tppa2bj9d1.png        222  1.719677e+09       \n"
     ]
    }
   ],
   "source": [
    "reddit = praw.Reddit(\n",
    "\n",
    "client_id=\"ri6fvOnzUWJg13EIGPlRoQ\",\n",
    "client_secret=\"-nzf5_tOIo5kic2PeR69eVj-frCQlg\",\n",
    "user_agent=\"python:myapp:v1.0\",\n",
    ")\n",
    "subreddit = reddit.subreddit('Cricket')\n",
    "query = \"ViratKohli\"\n",
    "posts=[]\n",
    "for submission in subreddit.search(query, limit=10):\n",
    "    posts.append(\n",
    "    {\n",
    "        \"id\": submission.id,\n",
    "        \"title\": submission.title,\n",
    "        \"score\": submission.score,\n",
    "        \"url\": submission.url,\n",
    "        \"comms_num\": submission.num_comments,\n",
    "        \"created\": submission.created,\n",
    "        \"body\": submission.selftext,\n",
    "    }\n",
    ")\n",
    "posts = pd.DataFrame(posts)\n",
    "print(posts[:5])\n",
    "posts.to_csv(\"reddit.csv\")"
   ]
  },
  {
   "cell_type": "code",
   "execution_count": 9,
   "metadata": {},
   "outputs": [
    {
     "name": "stdout",
     "output_type": "stream",
     "text": [
      "                                             comment  score       created\n",
      "0  He said it so casually with no reaction, I tho...   2484  1.719685e+09\n",
      "1  Bro the interview is still happening. Also pea...    287  1.719685e+09\n",
      "2  Retired from T20 by having more runs in the fi...   1493  1.719685e+09\n",
      "3                               Goes out with a bang    723  1.719685e+09\n",
      "4  Ended his t20 career on a high.\\n\\n\\nWell done...   1324  1.719685e+09\n"
     ]
    }
   ],
   "source": [
    "# fetch comments from the first post\n",
    "submission = reddit.submission(id=posts.iloc[0][\"id\"])\n",
    "comments = []\n",
    "submission.comments.replace_more(limit=50)\n",
    "for comment in submission.comments.list():\n",
    "    comments.append(\n",
    "    {\n",
    "        \"comment\": comment.body,\n",
    "        \"score\": comment.score,\n",
    "        \"created\": comment.created,\n",
    "    }\n",
    ")\n",
    "comments = pd.DataFrame(comments)\n",
    "comments.to_csv(\"comments.csv\")\n",
    "print(comments[:5])"
   ]
  },
  {
   "cell_type": "code",
   "execution_count": 1,
   "metadata": {},
   "outputs": [
    {
     "name": "stdout",
     "output_type": "stream",
     "text": [
      "                 Name               Department     Specialization  \\\n",
      "0    Dr  AATIKA NIZAM                CHEMISTRY          Chemistry   \n",
      "1    Dr  ABHILASH K P  PHYSICS AND ELECTRONICS            Physics   \n",
      "2  Dr  ABHISHEK MAJHI  PHYSICS AND ELECTRONICS            Physics   \n",
      "3     Dr  ABRAHAM V M              MATHEMATICS        Mathematics   \n",
      "4   Dr  AJESH VIJAYAN                CHEMISTRY  Organic Chemistry   \n",
      "\n",
      "                                        Profile Link  \n",
      "0  https://christuniversity.in/Chemistry/faculty-...  \n",
      "1  https://christuniversity.in/Physics and Electr...  \n",
      "2  https://christuniversity.in/Physics and Electr...  \n",
      "3  https://christuniversity.in/Mathematics/facult...  \n",
      "4  https://christuniversity.in/Chemistry/faculty-...  \n"
     ]
    }
   ],
   "source": [
    "import requests\n",
    "from bs4 import BeautifulSoup\n",
    "import pandas as pd\n",
    "\n",
    "url = \"https://christuniversity.in/academics/Main-Campus/school-of-sciences\"\n",
    "\n",
    "all_teachers = []\n",
    "\n",
    "response = requests.get(url)\n",
    "if response.status_code == 200:\n",
    "    soup = BeautifulSoup(response.content, \"html.parser\")\n",
    "    with open(\"teachers.txt\", \"w\") as file:\n",
    "        file.write(str(soup))\n",
    "    rows = soup.select(\"#exampleDean > tbody > tr\")\n",
    "\n",
    "    for row in rows:\n",
    "        name = row.select_one(\"td:nth-child(1) > div.col-sm-9 > p\").get_text(strip=True)\n",
    "        department = row.select_one(\"td:nth-child(3)\").get_text(strip=True)\n",
    "        specialization = row.select_one(\"td:nth-child(2)\").get_text(strip=True)\n",
    "        profile_link = row.select_one(\"td:nth-child(4) > a\")[\"href\"]\n",
    "\n",
    "        all_teachers.append(\n",
    "            {\n",
    "                \"Name\": name,\n",
    "                \"Department\": department,\n",
    "                \"Specialization\": specialization,\n",
    "                \"Profile Link\": profile_link,\n",
    "            }\n",
    "        )\n",
    "\n",
    "df = pd.DataFrame(all_teachers)\n",
    "print(df.head())\n",
    "\n",
    "df.to_csv(\"teachers.csv\",index=False)"
   ]
  }
 ],
 "metadata": {
  "kernelspec": {
   "display_name": "Python 3",
   "language": "python",
   "name": "python3"
  },
  "language_info": {
   "codemirror_mode": {
    "name": "ipython",
    "version": 3
   },
   "file_extension": ".py",
   "mimetype": "text/x-python",
   "name": "python",
   "nbconvert_exporter": "python",
   "pygments_lexer": "ipython3",
   "version": "3.11.6"
  }
 },
 "nbformat": 4,
 "nbformat_minor": 2
}
