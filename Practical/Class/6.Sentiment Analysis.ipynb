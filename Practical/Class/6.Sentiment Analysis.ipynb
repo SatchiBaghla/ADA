{
 "cells": [
  {
   "cell_type": "code",
   "execution_count": 3,
   "metadata": {},
   "outputs": [],
   "source": [
    "from textblob import TextBlob\n",
    "from vaderSentiment.vaderSentiment import SentimentIntensityAnalyzer\n",
    "from transformers import pipeline"
   ]
  },
  {
   "cell_type": "markdown",
   "metadata": {},
   "source": [
    "Polarity range -1 to +1 -1 negative +1 positive 0 neutral\n",
    "subjectivity 0 to 1 o factual 1 public opinion"
   ]
  },
  {
   "cell_type": "code",
   "execution_count": 4,
   "metadata": {},
   "outputs": [
    {
     "name": "stdout",
     "output_type": "stream",
     "text": [
      "TextBlob Sentiment: Sentiment(polarity=0.6125, subjectivity=0.75)\n",
      "TextBlob Sentiment: Sentiment(polarity=-1.0, subjectivity=0.95)\n"
     ]
    }
   ],
   "source": [
    "text1 = \"I love this product! It's amazing.\"\n",
    "text2 = \"I hate this product! It's disgusting\"\n",
    "\n",
    "#textblob\n",
    "blob1 = TextBlob(text1)\n",
    "textblob_sentiment1 = blob1.sentiment\n",
    "print(f\"TextBlob Sentiment: {textblob_sentiment1}\")\n",
    "\n",
    "blob2 = TextBlob(text2)\n",
    "textblob_sentiment2 = blob2.sentiment\n",
    "print(f\"TextBlob Sentiment: {textblob_sentiment2}\")\n"
   ]
  },
  {
   "cell_type": "code",
   "execution_count": 5,
   "metadata": {},
   "outputs": [
    {
     "name": "stdout",
     "output_type": "stream",
     "text": [
      "VADER Sentiment: {'neg': 0.0, 'neu': 0.325, 'pos': 0.675, 'compound': 0.8516}\n",
      "VADER Sentiment: {'neg': 0.649, 'neu': 0.351, 'pos': 0.0, 'compound': -0.8122}\n"
     ]
    }
   ],
   "source": [
    "analyzer = SentimentIntensityAnalyzer()\n",
    "vader_sentiment1 = analyzer.polarity_scores(text1)\n",
    "print(f\"VADER Sentiment: {vader_sentiment1}\")\n",
    "\n",
    "vader_sentiment2 = analyzer.polarity_scores(text2)\n",
    "print(f\"VADER Sentiment: {vader_sentiment2}\")"
   ]
  },
  {
   "cell_type": "code",
   "execution_count": 11,
   "metadata": {},
   "outputs": [
    {
     "name": "stderr",
     "output_type": "stream",
     "text": [
      "No model was supplied, defaulted to distilbert/distilbert-base-uncased-finetuned-sst-2-english and revision af0f99b (https://huggingface.co/distilbert/distilbert-base-uncased-finetuned-sst-2-english).\n",
      "Using a pipeline without specifying a model name and revision in production is not recommended.\n"
     ]
    },
    {
     "name": "stdout",
     "output_type": "stream",
     "text": [
      "Transformers Sentiment: [{'label': 'POSITIVE', 'score': 0.9998866319656372}]\n",
      "Transformers Sentiment: [{'label': 'NEGATIVE', 'score': 0.9997358918190002}]\n"
     ]
    }
   ],
   "source": [
    "#Transformers(Hugging Face)\n",
    "#Bidirectional encoder representation from transformers\n",
    "sentiment_analysis = pipeline('sentiment-analysis')\n",
    "\n",
    "tranformers_sentiment1 = sentiment_analysis(text1)\n",
    "print(f\"Transformers Sentiment: {tranformers_sentiment1}\")\n",
    "\n",
    "tranformers_sentiment2 = sentiment_analysis(text2)\n",
    "print(f\"Transformers Sentiment: {tranformers_sentiment2}\")"
   ]
  },
  {
   "cell_type": "markdown",
   "metadata": {},
   "source": []
  }
 ],
 "metadata": {
  "kernelspec": {
   "display_name": "Python 3",
   "language": "python",
   "name": "python3"
  },
  "language_info": {
   "codemirror_mode": {
    "name": "ipython",
    "version": 3
   },
   "file_extension": ".py",
   "mimetype": "text/x-python",
   "name": "python",
   "nbconvert_exporter": "python",
   "pygments_lexer": "ipython3",
   "version": "3.11.6"
  }
 },
 "nbformat": 4,
 "nbformat_minor": 2
}
