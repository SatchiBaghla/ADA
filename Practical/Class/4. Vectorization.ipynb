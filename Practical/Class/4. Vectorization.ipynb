{
 "cells": [
  {
   "cell_type": "code",
   "execution_count": 10,
   "metadata": {},
   "outputs": [],
   "source": [
    "import nltk\n",
    "from nltk.tokenize import word_tokenize\n",
    "from nltk.corpus import stopwords\n",
    "from nltk.stem import PorterStemmer, WordNetLemmatizer\n",
    "import contractions\n",
    "from sklearn.feature_extraction.text import CountVectorizer, TfidfVectorizer\n",
    "import re"
   ]
  },
  {
   "cell_type": "code",
   "execution_count": 4,
   "metadata": {},
   "outputs": [
    {
     "name": "stderr",
     "output_type": "stream",
     "text": [
      "[nltk_data] Downloading package punkt to\n",
      "[nltk_data]     C:\\Users\\satch\\AppData\\Roaming\\nltk_data...\n",
      "[nltk_data]   Package punkt is already up-to-date!\n",
      "[nltk_data] Downloading package stopwords to\n",
      "[nltk_data]     C:\\Users\\satch\\AppData\\Roaming\\nltk_data...\n",
      "[nltk_data]   Package stopwords is already up-to-date!\n",
      "[nltk_data] Downloading package wordnet to\n",
      "[nltk_data]     C:\\Users\\satch\\AppData\\Roaming\\nltk_data...\n",
      "[nltk_data]   Package wordnet is already up-to-date!\n"
     ]
    },
    {
     "data": {
      "text/plain": [
       "True"
      ]
     },
     "execution_count": 4,
     "metadata": {},
     "output_type": "execute_result"
    }
   ],
   "source": [
    "# Download necessary NLTK data files\n",
    "nltk.download('punkt')\n",
    "nltk.download('stopwords')\n",
    "nltk.download('wordnet')"
   ]
  },
  {
   "cell_type": "code",
   "execution_count": 8,
   "metadata": {},
   "outputs": [],
   "source": [
    "text = \"Hey there! 😃 I can't believe it's already 2024. Did you see John's new blog post?Check it out at https://example.com/blog! Also, email me at john.doe@example.com.He mentioned something about stemming and lemmatization—interesting stuff. BTW,I'll be attending the AI conference in N.Y.C. next month!! #Excited #AI 😊 Let's catch up soon. Cheers, John\"\n"
   ]
  },
  {
   "cell_type": "code",
   "execution_count": 9,
   "metadata": {},
   "outputs": [
    {
     "name": "stdout",
     "output_type": "stream",
     "text": [
      "Preprocessed Text: hey believe already see john new blog postcheck also email mentioned something stemming lemmatizationinteresting stuff wayi attending ai conference nyc next month excited ai let u catch soon cheer john\n"
     ]
    }
   ],
   "source": [
    "# Function to preprocess text\n",
    "def preprocess_text(text):\n",
    "    # 1. Expand Contractions\n",
    "    text = contractions.fix(text)\n",
    "    \n",
    "    # 2. Remove URLs and Emails\n",
    "    text = re.sub(r'http\\S+|www\\S+|https\\S+|mailto:\\S+', '', text, flags=re.MULTILINE)\n",
    "    text = re.sub(r'\\S+@\\S+', '', text)\n",
    "    \n",
    "    # 3. Remove special characters and emojis\n",
    "    text = re.sub(r'[^a-zA-Z\\s]', '', text)\n",
    "    \n",
    "    # 4. Tokenization\n",
    "    words = word_tokenize(text)\n",
    "    \n",
    "    # 5. Lowercasing\n",
    "    words = [word.lower() for word in words]\n",
    "    \n",
    "    # 6. Removing Punctuation\n",
    "    words = [word for word in words if word.isalnum()]\n",
    "    \n",
    "    # 7. Removing Stop Words\n",
    "    stop_words = set(stopwords.words('english'))\n",
    "    filtered_words = [word for word in words if word not in stop_words]\n",
    "    \n",
    "    # 8. Stemming\n",
    "    stemmer = PorterStemmer()\n",
    "    stemmed_words = [stemmer.stem(word) for word in filtered_words]\n",
    "    \n",
    "    # 9. Lemmatization\n",
    "    lemmatizer = WordNetLemmatizer()\n",
    "    lemmatized_words = [lemmatizer.lemmatize(word) for word in filtered_words]\n",
    "    \n",
    "    return ' '.join(lemmatized_words)\n",
    "\n",
    "# Preprocess the text\n",
    "preprocessed_text = preprocess_text(text)\n",
    "print(\"Preprocessed Text:\", preprocessed_text)\n",
    "\n",
    "\n"
   ]
  },
  {
   "cell_type": "code",
   "execution_count": 11,
   "metadata": {},
   "outputs": [
    {
     "name": "stdout",
     "output_type": "stream",
     "text": [
      "Count Vectorizer - Feature Names: ['ai' 'already' 'also' 'attending' 'believe' 'blog' 'catch' 'cheer'\n",
      " 'conference' 'email' 'excited' 'hey' 'john' 'lemmatizationinteresting'\n",
      " 'let' 'mentioned' 'month' 'new' 'next' 'nyc' 'postcheck' 'see'\n",
      " 'something' 'soon' 'stemming' 'stuff' 'wayi']\n",
      "Count Vectorizer - Vectorized Text: [[2 1 1 1 1 1 1 1 1 1 1 1 2 1 1 1 1 1 1 1 1 1 1 1 1 1 1]]\n",
      "TF-IDF Vectorizer - Feature Names: ['ai' 'already' 'also' 'attending' 'believe' 'blog' 'catch' 'cheer'\n",
      " 'conference' 'email' 'excited' 'hey' 'john' 'lemmatizationinteresting'\n",
      " 'let' 'mentioned' 'month' 'new' 'next' 'nyc' 'postcheck' 'see'\n",
      " 'something' 'soon' 'stemming' 'stuff' 'wayi']\n",
      "TF-IDF Vectorizer - Vectorized Text: [[0.34815531 0.17407766 0.17407766 0.17407766 0.17407766 0.17407766\n",
      "  0.17407766 0.17407766 0.17407766 0.17407766 0.17407766 0.17407766\n",
      "  0.34815531 0.17407766 0.17407766 0.17407766 0.17407766 0.17407766\n",
      "  0.17407766 0.17407766 0.17407766 0.17407766 0.17407766 0.17407766\n",
      "  0.17407766 0.17407766 0.17407766]]\n"
     ]
    }
   ],
   "source": [
    "# 10. Vectorization\n",
    "# Using CountVectorizer\n",
    "count_vectorizer = CountVectorizer()\n",
    "count_vector = count_vectorizer.fit_transform([preprocessed_text])\n",
    "print(\"Count Vectorizer - Feature Names:\", count_vectorizer.get_feature_names_out())\n",
    "print(\"Count Vectorizer - Vectorized Text:\", count_vector.toarray())\n",
    "\n",
    "# Using TfidfVectorizer\n",
    "tfidf_vectorizer = TfidfVectorizer()\n",
    "tfidf_vector = tfidf_vectorizer.fit_transform([preprocessed_text])\n",
    "print(\"TF-IDF Vectorizer - Feature Names:\", tfidf_vectorizer.get_feature_names_out())\n",
    "print(\"TF-IDF Vectorizer - Vectorized Text:\", tfidf_vector.toarray())"
   ]
  }
 ],
 "metadata": {
  "kernelspec": {
   "display_name": "Python 3",
   "language": "python",
   "name": "python3"
  },
  "language_info": {
   "codemirror_mode": {
    "name": "ipython",
    "version": 3
   },
   "file_extension": ".py",
   "mimetype": "text/x-python",
   "name": "python",
   "nbconvert_exporter": "python",
   "pygments_lexer": "ipython3",
   "version": "3.11.6"
  }
 },
 "nbformat": 4,
 "nbformat_minor": 2
}
