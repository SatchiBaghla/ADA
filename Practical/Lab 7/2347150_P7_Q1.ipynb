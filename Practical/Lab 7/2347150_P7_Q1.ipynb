{
 "cells": [
  {
   "cell_type": "markdown",
   "metadata": {},
   "source": [
    "Q1. Implement binary image classification using the CIFAR-10 dataset.<br>\n",
    "a. Import the CIFAR-10 dataset using the following command:<br>\n",
    "from keras.datasets import cifar10<br>\n",
    "The CIFAR-10 dataset comprises 60,000 color images (32x32 pixels) across 10 different classes, with each class containing 6,000 images. The dataset is divided into 50,000 training images and 10,000 test images. Focus only on the training images. Label all \"Automobile\" class images as 1 and select\n",
    "an equal number of images from another class, labeling them as 0 (Non-Automobile).<br>\n"
   ]
  },
  {
   "cell_type": "code",
   "execution_count": 12,
   "metadata": {},
   "outputs": [],
   "source": [
    "from keras.datasets import cifar10\n",
    "import numpy as np\n",
    "from sklearn.model_selection import train_test_split\n",
    "from sklearn.svm import SVC\n",
    "from sklearn.neighbors import KNeighborsClassifier\n",
    "from sklearn.tree import DecisionTreeClassifier\n",
    "from sklearn.linear_model import LogisticRegression\n",
    "from sklearn.metrics import accuracy_score\n"
   ]
  },
  {
   "cell_type": "code",
   "execution_count": 13,
   "metadata": {},
   "outputs": [],
   "source": [
    "# Load CIFAR-10 dataset\n",
    "(x_train, y_train), (x_test, y_test) = cifar10.load_data()"
   ]
  },
  {
   "cell_type": "code",
   "execution_count": 14,
   "metadata": {},
   "outputs": [
    {
     "name": "stdout",
     "output_type": "stream",
     "text": [
      "Shape of x_train: (50000, 32, 32, 3)\n",
      "Shape of y_train: (50000, 1)\n",
      "Shape of x_test: (10000, 32, 32, 3)\n",
      "Shape of y_test: (10000, 1)\n",
      "Number of samples per class in the training set:\n",
      "Class 0: 5000 samples\n",
      "Class 1: 5000 samples\n",
      "Class 2: 5000 samples\n",
      "Class 3: 5000 samples\n",
      "Class 4: 5000 samples\n",
      "Class 5: 5000 samples\n",
      "Class 6: 5000 samples\n",
      "Class 7: 5000 samples\n",
      "Class 8: 5000 samples\n",
      "Class 9: 5000 samples\n",
      "Shape of the first image in x_train: (32, 32, 3)\n",
      "Label of the first image in y_train: 6\n"
     ]
    }
   ],
   "source": [
    "# Print the shape of the datasets\n",
    "print(\"Shape of x_train:\", x_train.shape)  # (50000, 32, 32, 3)\n",
    "print(\"Shape of y_train:\", y_train.shape)  # (50000, 1)\n",
    "print(\"Shape of x_test:\", x_test.shape)    # (10000, 32, 32, 3)\n",
    "print(\"Shape of y_test:\", y_test.shape)    # (10000, 1)\n",
    "\n",
    "# Print information on the number of samples per class in the training data\n",
    "classes, counts = np.unique(y_train, return_counts=True)\n",
    "print(\"Number of samples per class in the training set:\")\n",
    "for cls, count in zip(classes, counts):\n",
    "    print(f\"Class {cls}: {count} samples\")\n",
    "\n",
    "# Print the first image shape and label\n",
    "print(\"Shape of the first image in x_train:\", x_train[0].shape)\n",
    "print(\"Label of the first image in y_train:\", y_train[0][0])\n"
   ]
  },
  {
   "cell_type": "code",
   "execution_count": 18,
   "metadata": {},
   "outputs": [],
   "source": [
    "# Define the class labels\n",
    "automobile_label = 1\n",
    "non_automobile_class = 0  # You can choose any other class (e.g., class 0 for 'airplane')\n",
    "\n",
    "# Extract the automobile class (label = 1)\n",
    "automobile_images = x_train[y_train.flatten() == automobile_label]\n",
    "automobile_labels = y_train[y_train.flatten() == automobile_label]\n",
    "\n",
    "# Extract an equal number of images from the non-automobile class\n",
    "non_automobile_images = x_train[y_train.flatten() == non_automobile_class][:len(automobile_images)]\n",
    "non_automobile_labels = y_train[y_train.flatten() == non_automobile_class][:len(automobile_images)]\n",
    "\n",
    "# Combine the images and labels for binary classification\n",
    "x_binary = np.concatenate((automobile_images, non_automobile_images), axis=0)\n",
    "y_binary = np.concatenate((np.ones(len(automobile_images)), np.zeros(len(non_automobile_images))), axis=0)\n",
    "\n",
    "# Shuffle the dataset\n",
    "indices = np.arange(x_binary.shape[0])\n",
    "np.random.shuffle(indices)\n",
    "x_binary = x_binary[indices]\n",
    "y_binary = y_binary[indices]\n",
    "\n"
   ]
  },
  {
   "cell_type": "code",
   "execution_count": null,
   "metadata": {},
   "outputs": [],
   "source": [
    "# Print the shape and some information about the dataset after preprocessing\n",
    "print(\"Shape of x_binary:\", x_binary.shape)\n",
    "print(\"Shape of y_binary:\", y_binary.shape)\n",
    "print(\"Number of samples (automobiles):\", np.sum(y_binary == 1))\n",
    "print(\"Number of samples (non-automobiles):\", np.sum(y_binary == 0))\n",
    "\n",
    "# Example of printing the shape of the first image and some sample data\n",
    "print(\"Shape of the first image:\", x_binary[0].shape)"
   ]
  },
  {
   "cell_type": "code",
   "execution_count": 20,
   "metadata": {},
   "outputs": [],
   "source": [
    "# Normalize the images\n",
    "x_binary = x_binary.astype('float32') / 255.0\n",
    "\n",
    "# Flatten the images\n",
    "x_binary = x_binary.reshape(x_binary.shape[0], -1)"
   ]
  },
  {
   "cell_type": "code",
   "execution_count": 21,
   "metadata": {},
   "outputs": [
    {
     "name": "stdout",
     "output_type": "stream",
     "text": [
      "Shape of x_binary: (10000, 3072)\n",
      "Shape of y_binary: (10000,)\n",
      "Number of samples (automobiles): 5000\n",
      "Number of samples (non-automobiles): 5000\n",
      "Shape of the first image: (3072,)\n",
      "First image (flattened): [0.00239908 0.00173779 0.00141484 ... 0.00339869 0.00290657 0.00218378]\n"
     ]
    }
   ],
   "source": [
    "# Print the shape and some information about the dataset after preprocessing\n",
    "print(\"Shape of x_binary:\", x_binary.shape)\n",
    "print(\"Shape of y_binary:\", y_binary.shape)\n",
    "print(\"Number of samples (automobiles):\", np.sum(y_binary == 1))\n",
    "print(\"Number of samples (non-automobiles):\", np.sum(y_binary == 0))\n",
    "\n",
    "# Example of printing the shape of the first image and some sample data\n",
    "print(\"Shape of the first image:\", x_binary[0].shape)\n",
    "print(\"First image (flattened):\", x_binary[0])"
   ]
  },
  {
   "cell_type": "code",
   "execution_count": 22,
   "metadata": {},
   "outputs": [],
   "source": [
    "# Split the data into training and validation sets\n",
    "x_train_binary, x_val_binary, y_train_binary, y_val_binary = train_test_split(\n",
    "    x_binary, y_binary, test_size=0.2, random_state=42\n",
    ")"
   ]
  },
  {
   "cell_type": "code",
   "execution_count": 3,
   "metadata": {},
   "outputs": [
    {
     "name": "stdout",
     "output_type": "stream",
     "text": [
      "SVC Accuracy: 89.05%\n",
      "kNN Accuracy: 67.45%\n",
      "Decision Tree Accuracy: 76.35%\n",
      "Logistic Regression Accuracy: 79.90%\n"
     ]
    },
    {
     "name": "stderr",
     "output_type": "stream",
     "text": [
      "c:\\Users\\satch\\AppData\\Local\\Programs\\Python\\Python311\\Lib\\site-packages\\sklearn\\linear_model\\_logistic.py:469: ConvergenceWarning: lbfgs failed to converge (status=1):\n",
      "STOP: TOTAL NO. of ITERATIONS REACHED LIMIT.\n",
      "\n",
      "Increase the number of iterations (max_iter) or scale the data as shown in:\n",
      "    https://scikit-learn.org/stable/modules/preprocessing.html\n",
      "Please also refer to the documentation for alternative solver options:\n",
      "    https://scikit-learn.org/stable/modules/linear_model.html#logistic-regression\n",
      "  n_iter_i = _check_optimize_result(\n"
     ]
    }
   ],
   "source": [
    "# Initialize the classifiers\n",
    "svc = SVC()\n",
    "knn = KNeighborsClassifier()\n",
    "decision_tree = DecisionTreeClassifier()\n",
    "logistic_regression = LogisticRegression()\n",
    "\n",
    "# Train and evaluate SVC\n",
    "svc.fit(x_train_binary, y_train_binary)\n",
    "svc_predictions = svc.predict(x_val_binary)\n",
    "svc_accuracy = accuracy_score(y_val_binary, svc_predictions)\n",
    "print(f\"SVC Accuracy: {svc_accuracy * 100:.2f}%\")\n",
    "\n",
    "# Train and evaluate kNN\n",
    "knn.fit(x_train_binary, y_train_binary)\n",
    "knn_predictions = knn.predict(x_val_binary)\n",
    "knn_accuracy = accuracy_score(y_val_binary, knn_predictions)\n",
    "print(f\"kNN Accuracy: {knn_accuracy * 100:.2f}%\")\n",
    "\n",
    "# Train and evaluate Decision Tree\n",
    "decision_tree.fit(x_train_binary, y_train_binary)\n",
    "decision_tree_predictions = decision_tree.predict(x_val_binary)\n",
    "decision_tree_accuracy = accuracy_score(y_val_binary, decision_tree_predictions)\n",
    "print(f\"Decision Tree Accuracy: {decision_tree_accuracy * 100:.2f}%\")\n",
    "\n",
    "# Train and evaluate Logistic Regression\n",
    "logistic_regression.fit(x_train_binary, y_train_binary)\n",
    "logistic_regression_predictions = logistic_regression.predict(x_val_binary)\n",
    "logistic_regression_accuracy = accuracy_score(y_val_binary, logistic_regression_predictions)\n",
    "print(f\"Logistic Regression Accuracy: {logistic_regression_accuracy * 100:.2f}%\")\n"
   ]
  },
  {
   "cell_type": "markdown",
   "metadata": {},
   "source": [
    "Q1 b. Build a binary classifier that predicts whether a given TEN images are \"Automobile\"(1) or \"Non-Automobile\" (0).<br>\n",
    "Implement the following classification algorithms:<br>\n",
    "● Support Vector Classifier (SVC)<br>\n",
    "● k-Nearest Neighbors (kNN)<br>\n",
    "● Decision Tree<br>\n",
    "● Logistic Regression<br>"
   ]
  },
  {
   "cell_type": "code",
   "execution_count": 24,
   "metadata": {},
   "outputs": [
    {
     "name": "stdout",
     "output_type": "stream",
     "text": [
      "Shape of x_custom_test: (10, 32, 32, 3)\n",
      "Shape of flattened x_custom_test: (10, 3072)\n"
     ]
    }
   ],
   "source": [
    "from PIL import Image\n",
    "import numpy as np\n",
    "import os\n",
    "\n",
    "# Directory containing your 10 images\n",
    "image_directory = \"D:/MCA/4th Trm/ADA/Practical/Lab 7/testimages\"  # Update this with the path to your images\n",
    "\n",
    "# List of image filenames\n",
    "image_filenames = ['image1.jpeg', 'image2.jpeg', 'image3.jpeg', 'image4.jpeg', 'image5.jpeg',\n",
    "                   'image6.jpeg', 'image7.jpeg', 'image8.jpeg', 'image9.jpeg', 'image10.jpeg']  # Update with your filenames\n",
    "\n",
    "# Initialize list to hold image data\n",
    "x_custom_test = []\n",
    "\n",
    "# Load and preprocess each image\n",
    "for filename in image_filenames:\n",
    "    # Load the image\n",
    "    image_path = os.path.join(image_directory, filename)\n",
    "    img = Image.open(image_path)\n",
    "\n",
    "    # Resize the image to 32x32 pixels as required by the model\n",
    "    img = img.resize((32, 32))\n",
    "\n",
    "    # Convert the image to a numpy array and normalize it\n",
    "    img_array = np.array(img).astype('float32') / 255.0\n",
    "\n",
    "    # Add the image array to the list\n",
    "    x_custom_test.append(img_array)\n",
    "\n",
    "# Convert the list to a numpy array and adjust dimensions\n",
    "x_custom_test = np.array(x_custom_test)\n",
    "\n",
    "# Flatten the images for classification\n",
    "x_custom_test_flattened = x_custom_test.reshape(len(x_custom_test), -1)\n",
    "\n",
    "# Print the shapes to confirm\n",
    "print(\"Shape of x_custom_test:\", x_custom_test.shape)\n",
    "print(\"Shape of flattened x_custom_test:\", x_custom_test_flattened.shape)\n"
   ]
  },
  {
   "cell_type": "code",
   "execution_count": 25,
   "metadata": {},
   "outputs": [
    {
     "name": "stdout",
     "output_type": "stream",
     "text": [
      "Image image1.jpeg:\n",
      "  SVC Prediction: Automobile\n",
      "  kNN Prediction: Automobile\n",
      "  Decision Tree Prediction: Automobile\n",
      "  Logistic Regression Prediction: Automobile\n",
      "\n",
      "Image image2.jpeg:\n",
      "  SVC Prediction: Automobile\n",
      "  kNN Prediction: Automobile\n",
      "  Decision Tree Prediction: Non-Automobile\n",
      "  Logistic Regression Prediction: Non-Automobile\n",
      "\n",
      "Image image3.jpeg:\n",
      "  SVC Prediction: Automobile\n",
      "  kNN Prediction: Automobile\n",
      "  Decision Tree Prediction: Automobile\n",
      "  Logistic Regression Prediction: Automobile\n",
      "\n",
      "Image image4.jpeg:\n",
      "  SVC Prediction: Automobile\n",
      "  kNN Prediction: Automobile\n",
      "  Decision Tree Prediction: Automobile\n",
      "  Logistic Regression Prediction: Automobile\n",
      "\n",
      "Image image5.jpeg:\n",
      "  SVC Prediction: Automobile\n",
      "  kNN Prediction: Non-Automobile\n",
      "  Decision Tree Prediction: Automobile\n",
      "  Logistic Regression Prediction: Automobile\n",
      "\n",
      "Image image6.jpeg:\n",
      "  SVC Prediction: Automobile\n",
      "  kNN Prediction: Automobile\n",
      "  Decision Tree Prediction: Automobile\n",
      "  Logistic Regression Prediction: Automobile\n",
      "\n",
      "Image image7.jpeg:\n",
      "  SVC Prediction: Automobile\n",
      "  kNN Prediction: Automobile\n",
      "  Decision Tree Prediction: Automobile\n",
      "  Logistic Regression Prediction: Automobile\n",
      "\n",
      "Image image8.jpeg:\n",
      "  SVC Prediction: Automobile\n",
      "  kNN Prediction: Non-Automobile\n",
      "  Decision Tree Prediction: Automobile\n",
      "  Logistic Regression Prediction: Automobile\n",
      "\n",
      "Image image9.jpeg:\n",
      "  SVC Prediction: Non-Automobile\n",
      "  kNN Prediction: Non-Automobile\n",
      "  Decision Tree Prediction: Non-Automobile\n",
      "  Logistic Regression Prediction: Non-Automobile\n",
      "\n",
      "Image image10.jpeg:\n",
      "  SVC Prediction: Automobile\n",
      "  kNN Prediction: Automobile\n",
      "  Decision Tree Prediction: Automobile\n",
      "  Logistic Regression Prediction: Non-Automobile\n",
      "\n"
     ]
    }
   ],
   "source": [
    "# Predict using SVC\n",
    "svc_predictions = svc.predict(x_custom_test_flattened)\n",
    "\n",
    "# Predict using kNN\n",
    "knn_predictions = knn.predict(x_custom_test_flattened)\n",
    "\n",
    "# Predict using Decision Tree\n",
    "decision_tree_predictions = decision_tree.predict(x_custom_test_flattened)\n",
    "\n",
    "# Predict using Logistic Regression\n",
    "logistic_regression_predictions = logistic_regression.predict(x_custom_test_flattened)\n",
    "\n",
    "# Print the results for each custom image\n",
    "for i, filename in enumerate(image_filenames):\n",
    "    print(f\"Image {filename}:\")\n",
    "    print(f\"  SVC Prediction: {'Automobile' if svc_predictions[i] == 1 else 'Non-Automobile'}\")\n",
    "    print(f\"  kNN Prediction: {'Automobile' if knn_predictions[i] == 1 else 'Non-Automobile'}\")\n",
    "    print(f\"  Decision Tree Prediction: {'Automobile' if decision_tree_predictions[i] == 1 else 'Non-Automobile'}\")\n",
    "    print(f\"  Logistic Regression Prediction: {'Automobile' if logistic_regression_predictions[i] == 1 else 'Non-Automobile'}\")\n",
    "    print()\n"
   ]
  },
  {
   "cell_type": "markdown",
   "metadata": {},
   "source": [
    "| Image Filename   | Original Label   | SVC Prediction   | kNN Prediction   | Decision Tree Prediction   | Logistic Regression Prediction |\n",
    "|------------------|------------------|------------------|------------------|----------------------------|--------------------------------|\n",
    "| image1.jpg       | Automobile       | Automobile       | Automobile       | Automobile                 | Automobile                     |\n",
    "| image2.jpg       | Automobile       | Automobile       | Automobile       | Non-Automobile             | Non-Automobile                 |\n",
    "| image3.jpg       | Automobile       | Automobile       | Automobile       | Automobile                 | Automobile                     |\n",
    "| image4.jpg       | Automobile       | Automobile       | Automobile       | Automobile                 | Automobile                     |\n",
    "| image5.jpg       | Automobile       | Automobile       | Non-Automobile   | Automobile                 | Automobile                     |\n",
    "| image6.jpg       | Automobile       | Automobile       | Automobile       | Automobile                 | Automobile                     |\n",
    "| image7.jpg       | Automobile       | Automobile       | Automobile       | Automobile                 | Automobile                     |\n",
    "| image8.jpg       | Automobile       | Automobile       | Non-Automobile   | Automobile                 | Automobile                     |\n",
    "| image9.jpg       | Non-Automobile   | Non-Automobile   | Non-Automobile   | Non-Automobile             | Non-Automobile                 |\n",
    "| image10.jpg      | Automobile       | Automobile       | Automobile       | Automobile                 | Non-Automobile                 |"
   ]
  },
  {
   "cell_type": "markdown",
   "metadata": {},
   "source": [
    "| Models             | SVC Accuracy   | kNN Accuracy   | Decision Tree Accuracy | Logistic Regression Accuracy |\n",
    "|--------------------|----------------|----------------|------------------------|------------------------------|\n",
    "| Correct            | 9              | 9              | 8                      | 9                            |\n",
    "| Incorrect          | 1              | 1              | 2                      | 1                            |\n",
    "| Accuracy           | 89.05%         | 67.45%         | 76.35%                 | 79.90%                       |"
   ]
  }
 ],
 "metadata": {
  "kernelspec": {
   "display_name": "Python 3",
   "language": "python",
   "name": "python3"
  },
  "language_info": {
   "codemirror_mode": {
    "name": "ipython",
    "version": 3
   },
   "file_extension": ".py",
   "mimetype": "text/x-python",
   "name": "python",
   "nbconvert_exporter": "python",
   "pygments_lexer": "ipython3",
   "version": "3.11.6"
  }
 },
 "nbformat": 4,
 "nbformat_minor": 2
}
